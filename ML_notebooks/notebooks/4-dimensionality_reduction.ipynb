{
 "cells": [
  {
   "cell_type": "markdown",
   "id": "98a0c1a3-f5f6-4b7b-a230-a56c148c881e",
   "metadata": {},
   "source": [
    "<div style=\"background-color: #eee3d3\">\n",
    "<h1> 4-dimensionality_reduction.ipynb </h1>\n",
    "</div>"
   ]
  },
  {
   "cell_type": "markdown",
   "id": "5fa435a7-4a1a-41e2-9523-bd2651ffca15",
   "metadata": {},
   "source": [
    "\n",
    "---\n",
    "\n",
    "### The purpose of this notebook is to reduce the dimension of our peak table :\n",
    "\n",
    "One main challenge in metabolomics data analysis is dealing with high dimension data, e.g. for a peak table $(n,p)$, having $p > n$ (more features than samples). It could be a problem for downstream analysis.\n",
    "\n",
    "To reduce the dimensionnality, you can use :\n",
    "- feature selection: find a subset of input features\n",
    "- feature extraction: project high-dimensional space into a space of fewer dimensions\n",
    "\n",
    "_Hint : methods that can be tested (or not ?) $\\rightarrow$ Principal Component Analysis (PCA), Partial Least Squares (PLS), Canonical Correlation Analysis (CCA), Autoencoder, ..._\n",
    "\n",
    "_Autoencoder is a type of artificial neural network, part of deep learning, you can test this method at the very end of the project if you still have time and interest in that (__huge bonus if you manage to make it work, but do it only if you have time left, the main objective of this project is to find potential biomarkers__)_\n",
    "\n",
    "---\n",
    "\n",
    "Import a peak table that you previously imputed (thus has no more missing values) and treated (transformation and/or scaling and/or normalisation).\n",
    "\n",
    "Same as before, think about quantitative/qualitative/graphic ways to present the different method outputs !\n",
    "\n",
    "---"
   ]
  },
  {
   "cell_type": "code",
   "execution_count": null,
   "id": "70397f65-44b8-47e0-a028-2fade99435a2",
   "metadata": {},
   "outputs": [],
   "source": []
  },
  {
   "cell_type": "code",
   "execution_count": null,
   "id": "cd26adc0-9e49-44f9-b2d0-3d6925c8da86",
   "metadata": {},
   "outputs": [],
   "source": []
  },
  {
   "cell_type": "code",
   "execution_count": null,
   "id": "35721745-942a-454d-9b1f-034b36675c0a",
   "metadata": {},
   "outputs": [],
   "source": []
  },
  {
   "cell_type": "code",
   "execution_count": null,
   "id": "dfbe3797-a8bd-4dd0-85b7-1bc9e6cab711",
   "metadata": {},
   "outputs": [],
   "source": []
  },
  {
   "cell_type": "code",
   "execution_count": null,
   "id": "eb3deaab-6113-4c61-9f9a-94cd751679af",
   "metadata": {},
   "outputs": [],
   "source": []
  },
  {
   "cell_type": "code",
   "execution_count": null,
   "id": "39795887-90ad-4732-81a7-a41ab05cfac8",
   "metadata": {},
   "outputs": [],
   "source": []
  },
  {
   "cell_type": "code",
   "execution_count": null,
   "id": "08dcba12-4e2a-4d30-96ec-81b72692a2c7",
   "metadata": {},
   "outputs": [],
   "source": []
  },
  {
   "cell_type": "code",
   "execution_count": null,
   "id": "fdcb889a-a4e9-4737-b157-b1c5f368d8be",
   "metadata": {},
   "outputs": [],
   "source": []
  },
  {
   "cell_type": "code",
   "execution_count": null,
   "id": "2defab3d-c66f-45e6-a632-97508d6737e4",
   "metadata": {},
   "outputs": [],
   "source": []
  },
  {
   "cell_type": "code",
   "execution_count": null,
   "id": "65c9d5aa-bed4-47fc-9beb-0a49667524d8",
   "metadata": {},
   "outputs": [],
   "source": []
  },
  {
   "cell_type": "code",
   "execution_count": null,
   "id": "9a357946-2c43-4bce-9939-3d4d7c8e7be7",
   "metadata": {},
   "outputs": [],
   "source": []
  }
 ],
 "metadata": {
  "kernelspec": {
   "display_name": "Python 3",
   "language": "python",
   "name": "python3"
  },
  "language_info": {
   "codemirror_mode": {
    "name": "ipython",
    "version": 3
   },
   "file_extension": ".py",
   "mimetype": "text/x-python",
   "name": "python",
   "nbconvert_exporter": "python",
   "pygments_lexer": "ipython3",
   "version": "3.6.8"
  }
 },
 "nbformat": 4,
 "nbformat_minor": 5
}
